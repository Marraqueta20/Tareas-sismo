{
 "cells": [
  {
   "cell_type": "code",
   "execution_count": 33,
   "metadata": {},
   "outputs": [],
   "source": [
    "#Tarea 1 sismología\n",
    "import matplotlib.pyplot as plt #modulo para graficar\n",
    "import numpy as np              #este modulo es para trabajar con matrices como en matlab\n",
    "import pandas as pd             #modulo para leer archivos\n",
    "\n",
    "Chile = np.loadtxt('Chile.dat')   #tiene 2 columnas\n",
    "Fosa = np.loadtxt('fosa.dat')     #tiene 2 columnas\n",
    "\n",
    "# cosas que usare\n",
    "\n",
    "latFosa = Fosa[:,0]\n",
    "longFosa = Fosa[:,1]\n",
    "\n",
    "latCosta = Chile[:,0]\n",
    "longCosta = Chile[:,1]\n",
    "\n",
    "ex = \n"
   ]
  },
  {
   "cell_type": "code",
   "execution_count": null,
   "metadata": {},
   "outputs": [],
   "source": []
  },
  {
   "cell_type": "code",
   "execution_count": null,
   "metadata": {},
   "outputs": [],
   "source": []
  }
 ],
 "metadata": {
  "kernelspec": {
   "display_name": "Python 3",
   "language": "python",
   "name": "python3"
  },
  "language_info": {
   "codemirror_mode": {
    "name": "ipython",
    "version": 3
   },
   "file_extension": ".py",
   "mimetype": "text/x-python",
   "name": "python",
   "nbconvert_exporter": "python",
   "pygments_lexer": "ipython3",
   "version": "3.6.5"
  }
 },
 "nbformat": 4,
 "nbformat_minor": 2
}
