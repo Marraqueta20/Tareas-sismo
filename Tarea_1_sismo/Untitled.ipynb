{
 "cells": [
  {
   "cell_type": "code",
   "execution_count": 87,
   "metadata": {},
   "outputs": [],
   "source": [
    "#Tarea 1 sismología\n",
    "import matplotlib.pyplot as plt #modulo para graficar\n",
    "import numpy as np              #este modulo es para trabajar con matrices como en matlab\n",
    "import pandas as pd             #modulo para leer archivos\n",
    "import csv\n",
    "\n",
    "Chile = np.loadtxt('Chile.dat')   #tiene 2 columnas\n",
    "Fosa = np.loadtxt('fosa.dat')     #tiene 2 columnas\n",
    "Punitaqui = pd.read_csv('Punitaqui.csv', sep=',', skiprows=0)\n",
    "PunitaquiEX = pd.read_csv('Punitaque_extendo.csv', sep=',', skiprows=0)\n",
    "Chili = pd.read_csv('Chilean_sismi.csv', sep=',', skiprows=0)\n",
    "\n",
    "\n",
    "# cosas que usare\n",
    "\n",
    "latFosa = Fosa[:,0]\n",
    "longFosa = Fosa[:,1]\n",
    "\n",
    "latCosta = Chile[:,0]\n",
    "longCosta = Chile[:,1]\n",
    "\n",
    "# datos de punitaqui\n",
    "timeP = Punitaqui['time']\n",
    "latP = Punitaqui['latitude']\n",
    "lonP = Punitaqui['longitude']\n",
    "dephtP = Punitaqui['depth']\n",
    "magP = Punitaqui['mag']\n",
    "\n",
    "# datos de punitaqui extendidos\n",
    "timePE = PunitaquiEX['time']\n",
    "latPE = PunitaquiEX['latitude']\n",
    "lonPE = PunitaquiEX['longitude']\n",
    "dephtPE = PunitaquiEX['depth']\n",
    "magPE = PunitaquiEX['mag']\n",
    "\n",
    "# datos para la p2\n",
    "timeC = Chili['time']\n",
    "latC = Chili['latitude']\n",
    "lonC = Chili['longitude']\n",
    "dephtC = Chili['depth']\n",
    "magC = Chili['mag']\n"
   ]
  },
  {
   "cell_type": "code",
   "execution_count": null,
   "metadata": {},
   "outputs": [],
   "source": []
  },
  {
   "cell_type": "code",
   "execution_count": null,
   "metadata": {},
   "outputs": [],
   "source": []
  },
  {
   "cell_type": "code",
   "execution_count": null,
   "metadata": {},
   "outputs": [],
   "source": []
  },
  {
   "cell_type": "code",
   "execution_count": null,
   "metadata": {},
   "outputs": [],
   "source": []
  }
 ],
 "metadata": {
  "kernelspec": {
   "display_name": "Python 3",
   "language": "python",
   "name": "python3"
  },
  "language_info": {
   "codemirror_mode": {
    "name": "ipython",
    "version": 3
   },
   "file_extension": ".py",
   "mimetype": "text/x-python",
   "name": "python",
   "nbconvert_exporter": "python",
   "pygments_lexer": "ipython3",
   "version": "3.6.5"
  }
 },
 "nbformat": 4,
 "nbformat_minor": 2
}
